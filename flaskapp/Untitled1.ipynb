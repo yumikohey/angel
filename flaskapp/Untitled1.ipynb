{
 "cells": [
  {
   "cell_type": "code",
   "execution_count": 1,
   "metadata": {
    "collapsed": false
   },
   "outputs": [
    {
     "name": "stderr",
     "output_type": "stream",
     "text": [
      "A newer version of GraphLab Create (v1.8.5) is available! Your current version is v1.8.1.\n",
      "\n",
      "You can use pip to upgrade the graphlab-create package. For more information see https://dato.com/products/create/upgrade.\n"
     ]
    }
   ],
   "source": [
    "import graphlab\n",
    "import base64"
   ]
  },
  {
   "cell_type": "code",
   "execution_count": 2,
   "metadata": {
    "collapsed": false
   },
   "outputs": [
    {
     "name": "stderr",
     "output_type": "stream",
     "text": [
      "[INFO] This non-commercial license of GraphLab Create is assigned to kennethcc2005@hotmail.com and will expire on February 10, 2017. For commercial licensing options, visit https://dato.com/buy/.\n",
      "\n",
      "[INFO] Start server at: ipc:///tmp/graphlab_server-63194 - Server binary: /Users/zoesh/anaconda/lib/python2.7/site-packages/graphlab/unity_server - Server log: /tmp/graphlab_server_1459983091.log\n",
      "[INFO] GraphLab Server Version: 1.8.1\n"
     ]
    },
    {
     "name": "stdout",
     "output_type": "stream",
     "text": [
      "PROGRESS: Downloading http://s3.amazonaws.com/dato-datasets/food/filtered_openfood_sf/dir_archive.ini to /var/tmp/graphlab-zoesh/63194/c6808453-1a32-458f-b2e7-2bf981c5690d.ini\n",
      "PROGRESS: Downloading http://s3.amazonaws.com/dato-datasets/food/filtered_openfood_sf/objects.bin to /var/tmp/graphlab-zoesh/63194/5cd8f0da-d738-4891-bfa2-93d544a59047.bin\n",
      "PROGRESS: Downloading http://s3.amazonaws.com/dato-datasets/food/filtered_openfood_sf/m_ec0c66b259e235f5.frame_idx to /var/tmp/graphlab-zoesh/63194/5e5af31f-256c-4bd9-a383-48915318546e.frame_idx\n",
      "PROGRESS: Downloading http://s3.amazonaws.com/dato-datasets/food/filtered_openfood_sf/m_ec0c66b259e235f5.sidx to /var/tmp/graphlab-zoesh/63194/df7c1f22-0a4e-4b9e-90a1-b3066400a3c5.sidx\n",
      "PROGRESS: Downloading http://s3.amazonaws.com/dato-datasets/food/filtered_openfood_sf/m_ec0c66b259e235f5.0000 to /var/tmp/graphlab-zoesh/63194/e8e03a00-cb2a-4548-a0d8-82318152e9dc.0000\n",
      "PROGRESS: Downloading http://s3.amazonaws.com/dato-datasets/food/filtered_openfood_sf/m_ec0c66b259e235f5.0001 to /var/tmp/graphlab-zoesh/63194/f91dec10-947e-404e-8b11-412036405b48.0001\n",
      "PROGRESS: Downloading http://s3.amazonaws.com/dato-datasets/food/filtered_openfood_sf/m_ec0c66b259e235f5.0002 to /var/tmp/graphlab-zoesh/63194/11957022-8ac1-43c3-b0f4-7c8063551b79.0002\n",
      "PROGRESS: Downloading http://s3.amazonaws.com/dato-datasets/food/filtered_openfood_sf/m_ec0c66b259e235f5.0003 to /var/tmp/graphlab-zoesh/63194/45bed72e-2b4a-463c-99e7-ad04c49b500d.0003\n",
      "PROGRESS: Downloading http://s3.amazonaws.com/dato-datasets/food/filtered_openfood_sf/m_ec0c66b259e235f5.0004 to /var/tmp/graphlab-zoesh/63194/cf1894ef-feb7-4d16-b942-f15ef332adb8.0004\n",
      "PROGRESS: Downloading http://s3.amazonaws.com/dato-datasets/food/filtered_openfood_sf/m_ec0c66b259e235f5.0005 to /var/tmp/graphlab-zoesh/63194/0b4d47f3-2f61-4ca4-a7bb-dedc863dd2b1.0005\n",
      "PROGRESS: Downloading http://s3.amazonaws.com/dato-datasets/food/filtered_openfood_sf/m_ec0c66b259e235f5.0006 to /var/tmp/graphlab-zoesh/63194/f0a46590-f428-4325-a913-30444afad56c.0006\n",
      "PROGRESS: Downloading http://s3.amazonaws.com/dato-datasets/food/filtered_openfood_sf/m_ec0c66b259e235f5.0007 to /var/tmp/graphlab-zoesh/63194/a3a6483d-749c-4e0f-a802-2286d0b2b98e.0007\n",
      "PROGRESS: Starting pairwise querying.\n",
      "PROGRESS: +--------------+---------+-------------+--------------+\n",
      "PROGRESS: | Query points | # Pairs | % Complete. | Elapsed Time |\n",
      "PROGRESS: +--------------+---------+-------------+--------------+\n",
      "PROGRESS: | 1            | 2416    | 0.0413907   | 4.289ms      |\n",
      "PROGRESS: | Done         |         | 100         | 99.982ms     |\n",
      "PROGRESS: +--------------+---------+-------------+--------------+\n",
      "PROGRESS: +-----------------------------+\n",
      "PROGRESS: | Number of components merged |\n",
      "PROGRESS: +-----------------------------+\n",
      "PROGRESS: | 435                         |\n",
      "PROGRESS: | 0                           |\n",
      "PROGRESS: +-----------------------------+\n"
     ]
    }
   ],
   "source": [
    "openfood_sf = graphlab.SFrame('http://s3.amazonaws.com/dato-datasets/food/filtered_openfood_sf')\n",
    "dedup = graphlab.nearest_neighbor_deduplication.create(openfood_sf, features=['product_name'],radius=0.25)\n",
    "dedup_sf = dedup['entities'].groupby(key_columns=\"__entity\", operations = {'row_number' : graphlab.aggregate.SELECT_ONE('row_number')})\n",
    "openfood_sf = openfood_sf.add_row_number('row_number').filter_by(dedup_sf['row_number'], 'row_number')\n"
   ]
  },
  {
   "cell_type": "code",
   "execution_count": 3,
   "metadata": {
    "collapsed": false
   },
   "outputs": [
    {
     "name": "stdout",
     "output_type": "stream",
     "text": [
      "PROGRESS: Starting brute force nearest neighbors model training.\n",
      "PROGRESS: Starting pairwise querying.\n",
      "PROGRESS: +--------------+---------+-------------+--------------+\n",
      "PROGRESS: | Query points | # Pairs | % Complete. | Elapsed Time |\n",
      "PROGRESS: +--------------+---------+-------------+--------------+\n",
      "PROGRESS: | 1            | 2169    | 0.0562746   | 11.177ms     |\n",
      "PROGRESS: | Done         |         | 100         | 464.694ms    |\n",
      "PROGRESS: +--------------+---------+-------------+--------------+\n"
     ]
    }
   ],
   "source": [
    "openfood_sf['product_features'] = openfood_sf['product_name'] + ', ' + openfood_sf['generic_name'] + ' ' + openfood_sf['categories'] + ' ' + openfood_sf['packaging'] + ' ' + openfood_sf['brands'] + ' ' + openfood_sf['labels'] + ' ' + openfood_sf['ingredients_text'] + ' ' + openfood_sf['allergens'] + ' ' + openfood_sf['additives']\n",
    "openfood_sf['product_tags'] = openfood_sf['product_features']\n",
    "tagger = graphlab.autotagger.create(openfood_sf, tag_name='product_tags')\n",
    "openfood_similar_products = tagger.tag(openfood_sf, query_name='product_features', k=4)\n",
    "openfood_similar_products = openfood_similar_products[openfood_similar_products['product_features'] != openfood_similar_products['product_tags']]\n",
    "openfood_similar_products['product_name'] = openfood_similar_products['product_tags'].apply(lambda x: x.split(',')[0])\n",
    "openfood_similar_products_groupby = openfood_similar_products.groupby(key_columns='product_features_id', operations={'similar_foods': graphlab.aggregate.CONCAT('product_name')})\n",
    "openfood_sf = openfood_sf.add_row_number('row_id')\n",
    "openfood_sf = openfood_sf.join(openfood_similar_products_groupby, how='left', on={'row_id':'product_features_id'})\n",
    "openfood_sf = openfood_sf.fillna('similar_foods', ['','',''])"
   ]
  },
  {
   "cell_type": "code",
   "execution_count": 4,
   "metadata": {
    "collapsed": false
   },
   "outputs": [
    {
     "data": {
      "text/html": [
       "<div style=\"max-height:1000px;max-width:1500px;overflow:auto;\"><table frame=\"box\" rules=\"cols\">\n",
       "    <tr>\n",
       "        <th style=\"padding-left: 1em; padding-right: 1em; text-align: center\">product_name</th>\n",
       "        <th style=\"padding-left: 1em; padding-right: 1em; text-align: center\">similar_foods.0</th>\n",
       "        <th style=\"padding-left: 1em; padding-right: 1em; text-align: center\">similar_foods.1</th>\n",
       "        <th style=\"padding-left: 1em; padding-right: 1em; text-align: center\">similar_foods.2</th>\n",
       "    </tr>\n",
       "    <tr>\n",
       "        <td style=\"padding-left: 1em; padding-right: 1em; text-align: center; vertical-align: top\">Flute</td>\n",
       "        <td style=\"padding-left: 1em; padding-right: 1em; text-align: center; vertical-align: top\">Granary baguette</td>\n",
       "        <td style=\"padding-left: 1em; padding-right: 1em; text-align: center; vertical-align: top\">Arborio Risotto</td>\n",
       "        <td style=\"padding-left: 1em; padding-right: 1em; text-align: center; vertical-align: top\">Sweet and fragrant Hom<br>Mali jasmine rice ...</td>\n",
       "    </tr>\n",
       "    <tr>\n",
       "        <td style=\"padding-left: 1em; padding-right: 1em; text-align: center; vertical-align: top\">Cauliflower</td>\n",
       "        <td style=\"padding-left: 1em; padding-right: 1em; text-align: center; vertical-align: top\">Cauliflower Florets</td>\n",
       "        <td style=\"padding-left: 1em; padding-right: 1em; text-align: center; vertical-align: top\">Sweetheart Cabbage</td>\n",
       "        <td style=\"padding-left: 1em; padding-right: 1em; text-align: center; vertical-align: top\">Courgettes</td>\n",
       "    </tr>\n",
       "    <tr>\n",
       "        <td style=\"padding-left: 1em; padding-right: 1em; text-align: center; vertical-align: top\">Spring Onions</td>\n",
       "        <td style=\"padding-left: 1em; padding-right: 1em; text-align: center; vertical-align: top\">Spring Greens</td>\n",
       "        <td style=\"padding-left: 1em; padding-right: 1em; text-align: center; vertical-align: top\">Trimmed Spring Onions</td>\n",
       "        <td style=\"padding-left: 1em; padding-right: 1em; text-align: center; vertical-align: top\">Swede</td>\n",
       "    </tr>\n",
       "    <tr>\n",
       "        <td style=\"padding-left: 1em; padding-right: 1em; text-align: center; vertical-align: top\">Luxury Christmas Pudding</td>\n",
       "        <td style=\"padding-left: 1em; padding-right: 1em; text-align: center; vertical-align: top\">Luxury 8 month matured<br>christmas pudding ...</td>\n",
       "        <td style=\"padding-left: 1em; padding-right: 1em; text-align: center; vertical-align: top\">Luxury Fruit &amp; Nut<br>Christmas Pudding ...</td>\n",
       "        <td style=\"padding-left: 1em; padding-right: 1em; text-align: center; vertical-align: top\">Cognac Laced Christmas<br>Pudding ...</td>\n",
       "    </tr>\n",
       "    <tr>\n",
       "        <td style=\"padding-left: 1em; padding-right: 1em; text-align: center; vertical-align: top\">Trader Joe's sea salt<br>potato chips ...</td>\n",
       "        <td style=\"padding-left: 1em; padding-right: 1em; text-align: center; vertical-align: top\">Palak Paneer</td>\n",
       "        <td style=\"padding-left: 1em; padding-right: 1em; text-align: center; vertical-align: top\">Dark Chocolate Mints</td>\n",
       "        <td style=\"padding-left: 1em; padding-right: 1em; text-align: center; vertical-align: top\">Joe-Joes</td>\n",
       "    </tr>\n",
       "    <tr>\n",
       "        <td style=\"padding-left: 1em; padding-right: 1em; text-align: center; vertical-align: top\"></td>\n",
       "        <td style=\"padding-left: 1em; padding-right: 1em; text-align: center; vertical-align: top\"></td>\n",
       "        <td style=\"padding-left: 1em; padding-right: 1em; text-align: center; vertical-align: top\"></td>\n",
       "        <td style=\"padding-left: 1em; padding-right: 1em; text-align: center; vertical-align: top\"></td>\n",
       "    </tr>\n",
       "    <tr>\n",
       "        <td style=\"padding-left: 1em; padding-right: 1em; text-align: center; vertical-align: top\">Large flat mushrooms</td>\n",
       "        <td style=\"padding-left: 1em; padding-right: 1em; text-align: center; vertical-align: top\">Closed cup chestnut<br>mushrooms ...</td>\n",
       "        <td style=\"padding-left: 1em; padding-right: 1em; text-align: center; vertical-align: top\">Closed Cup white<br>Mushrooms ...</td>\n",
       "        <td style=\"padding-left: 1em; padding-right: 1em; text-align: center; vertical-align: top\">Jumbo Mushrooms</td>\n",
       "    </tr>\n",
       "    <tr>\n",
       "        <td style=\"padding-left: 1em; padding-right: 1em; text-align: center; vertical-align: top\"></td>\n",
       "        <td style=\"padding-left: 1em; padding-right: 1em; text-align: center; vertical-align: top\"></td>\n",
       "        <td style=\"padding-left: 1em; padding-right: 1em; text-align: center; vertical-align: top\"></td>\n",
       "        <td style=\"padding-left: 1em; padding-right: 1em; text-align: center; vertical-align: top\"></td>\n",
       "    </tr>\n",
       "    <tr>\n",
       "        <td style=\"padding-left: 1em; padding-right: 1em; text-align: center; vertical-align: top\">British Beef Braising<br>Steak ...</td>\n",
       "        <td style=\"padding-left: 1em; padding-right: 1em; text-align: center; vertical-align: top\">Prime Irish Beef Ribeye<br>Steak ...</td>\n",
       "        <td style=\"padding-left: 1em; padding-right: 1em; text-align: center; vertical-align: top\">2 Mediterranean Seabass<br>Fillets ...</td>\n",
       "        <td style=\"padding-left: 1em; padding-right: 1em; text-align: center; vertical-align: top\">2 Thick Cut Pork Chops</td>\n",
       "    </tr>\n",
       "    <tr>\n",
       "        <td style=\"padding-left: 1em; padding-right: 1em; text-align: center; vertical-align: top\"></td>\n",
       "        <td style=\"padding-left: 1em; padding-right: 1em; text-align: center; vertical-align: top\"></td>\n",
       "        <td style=\"padding-left: 1em; padding-right: 1em; text-align: center; vertical-align: top\"></td>\n",
       "        <td style=\"padding-left: 1em; padding-right: 1em; text-align: center; vertical-align: top\"></td>\n",
       "    </tr>\n",
       "</table>\n",
       "[2169 rows x 4 columns]<br/>Note: Only the head of the SFrame is printed.<br/>You can use print_rows(num_rows=m, num_columns=n) to print more rows and columns.\n",
       "</div>"
      ],
      "text/plain": [
       "Columns:\n",
       "\tproduct_name\tstr\n",
       "\tsimilar_foods.0\tstr\n",
       "\tsimilar_foods.1\tstr\n",
       "\tsimilar_foods.2\tstr\n",
       "\n",
       "Rows: 2169\n",
       "\n",
       "Data:\n",
       "+-------------------------------+-------------------------------+\n",
       "|          product_name         |        similar_foods.0        |\n",
       "+-------------------------------+-------------------------------+\n",
       "|             Flute             |        Granary baguette       |\n",
       "|          Cauliflower          |      Cauliflower Florets      |\n",
       "|         Spring Onions         |         Spring Greens         |\n",
       "|    Luxury Christmas Pudding   | Luxury 8 month matured chr... |\n",
       "| Trader Joe's sea salt pota... |          Palak Paneer         |\n",
       "|                               |                               |\n",
       "|      Large flat mushrooms     | Closed cup chestnut mushrooms |\n",
       "|                               |                               |\n",
       "|  British Beef Braising Steak  | Prime Irish Beef Ribeye Steak |\n",
       "|                               |                               |\n",
       "+-------------------------------+-------------------------------+\n",
       "+-------------------------------+--------------------------------+\n",
       "|        similar_foods.1        |        similar_foods.2         |\n",
       "+-------------------------------+--------------------------------+\n",
       "|        Arborio Risotto        | Sweet and fragrant Hom Mal...  |\n",
       "|       Sweetheart Cabbage      |           Courgettes           |\n",
       "|     Trimmed Spring Onions     |             Swede              |\n",
       "| Luxury Fruit & Nut Christm... | Cognac Laced Christmas Pudding |\n",
       "|      Dark Chocolate Mints     |            Joe-Joes            |\n",
       "|                               |                                |\n",
       "|   Closed Cup white Mushrooms  |        Jumbo Mushrooms         |\n",
       "|                               |                                |\n",
       "| 2 Mediterranean Seabass Fi... |     2 Thick Cut Pork Chops     |\n",
       "|                               |                                |\n",
       "+-------------------------------+--------------------------------+\n",
       "[2169 rows x 4 columns]\n",
       "Note: Only the head of the SFrame is printed.\n",
       "You can use print_rows(num_rows=m, num_columns=n) to print more rows and columns."
      ]
     },
     "execution_count": 4,
     "metadata": {},
     "output_type": "execute_result"
    }
   ],
   "source": [
    "openfood_sf.select_columns(['product_name','similar_foods']).unpack('similar_foods')\n"
   ]
  },
  {
   "cell_type": "code",
   "execution_count": null,
   "metadata": {
    "collapsed": true
   },
   "outputs": [],
   "source": [
    "visual_features = graphlab.SFrame()\n",
    "visual_features['visual_features'] = graphlab.SArray('http://s3.amazonaws.com/dato-datasets/food/openfood_extracted_features')\n",
    "visual_features = visual_features.add_row_number('row_number').filter_by(dedup_sf['row_number'], 'row_number')\n",
    "openfood_sf['visual_features'] = visual_features['visual_features']\n",
    "#pretrained_model = graphlab.load_model('http://s3.amazonaws.com/GraphLab-Datasets/deeplearning/imagenet_model_iter45')\n",
    "#openfood_sf['visual_features'] = pretrained_model.extract_features(openfood_sf)\n",
    "m = graphlab.nearest_neighbors.create(openfood_sf, features=['visual_features'])\n",
    "similar_images = nearest_neighbor_model.query(images, k = 2)"
   ]
  }
 ],
 "metadata": {
  "kernelspec": {
   "display_name": "Python 2",
   "language": "python",
   "name": "python2"
  },
  "language_info": {
   "codemirror_mode": {
    "name": "ipython",
    "version": 2
   },
   "file_extension": ".py",
   "mimetype": "text/x-python",
   "name": "python",
   "nbconvert_exporter": "python",
   "pygments_lexer": "ipython2",
   "version": "2.7.11"
  }
 },
 "nbformat": 4,
 "nbformat_minor": 0
}
